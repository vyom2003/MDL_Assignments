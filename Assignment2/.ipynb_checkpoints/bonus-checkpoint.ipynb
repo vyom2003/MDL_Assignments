{
 "cells": [
  {
   "cell_type": "code",
   "execution_count": 1,
   "id": "419d26bb",
   "metadata": {},
   "outputs": [],
   "source": [
    "import pickle\n",
    "import numpy as np\n",
    "from sklearn.linear_model import LinearRegression\n",
    "from sklearn.preprocessing import PolynomialFeatures"
   ]
  },
  {
   "cell_type": "code",
   "execution_count": 2,
   "id": "41df30af",
   "metadata": {
    "scrolled": true
   },
   "outputs": [],
   "source": [
    "file_data= open(\"capacitor_dataset.pickle\",\"rb\")\n",
    "data= pickle.load(file_data)\n",
    "time= data[:,0].reshape(-1,1)\n",
    "charge= data[:,1].reshape(-1,1)"
   ]
  },
  {
   "cell_type": "code",
   "execution_count": 3,
   "id": "5599c370",
   "metadata": {
    "scrolled": false
   },
   "outputs": [],
   "source": [
    "charge = np.log(charge)\n",
    "poly=PolynomialFeatures(degree=1)\n",
    "time_values=poly.fit_transform(time)\n",
    "model =LinearRegression().fit(time_values,charge)"
   ]
  },
  {
   "cell_type": "code",
   "execution_count": 4,
   "id": "9ec198f7",
   "metadata": {
    "scrolled": false
   },
   "outputs": [
    {
     "name": "stdout",
     "output_type": "stream",
     "text": [
      "Capacitance=  4.999999999999485e-05\n"
     ]
    }
   ],
   "source": [
    "constant=model.intercept_\n",
    "capacitance=np.exp(constant)/5\n",
    "print(\"Capacitance= \",capacitance[0])"
   ]
  },
  {
   "cell_type": "code",
   "execution_count": 5,
   "id": "6ae7ebde",
   "metadata": {
    "scrolled": true
   },
   "outputs": [
    {
     "name": "stdout",
     "output_type": "stream",
     "text": [
      "Resistance=  100000.00000001038\n"
     ]
    }
   ],
   "source": [
    "slope = model.coef_[0]\n",
    "Resistance=-1/(slope[1]*capacitance[0])\n",
    "print(\"Resistance= \",Resistance)"
   ]
  }
 ],
 "metadata": {
  "kernelspec": {
   "display_name": "Python 3 (ipykernel)",
   "language": "python",
   "name": "python3"
  },
  "language_info": {
   "codemirror_mode": {
    "name": "ipython",
    "version": 3
   },
   "file_extension": ".py",
   "mimetype": "text/x-python",
   "name": "python",
   "nbconvert_exporter": "python",
   "pygments_lexer": "ipython3",
   "version": "3.8.10"
  }
 },
 "nbformat": 4,
 "nbformat_minor": 5
}
