{
 "cells": [
  {
   "cell_type": "code",
   "execution_count": 1,
   "id": "7d806564",
   "metadata": {
    "scrolled": true
   },
   "outputs": [],
   "source": [
    "import pickle\n",
    "import numpy as np\n",
    "import random\n",
    "import matplotlib.pyplot as plt\n",
    "from tabulate import tabulate\n",
    "from sklearn.linear_model import LinearRegression\n",
    "from sklearn.preprocessing import PolynomialFeatures"
   ]
  },
  {
   "cell_type": "code",
   "execution_count": 2,
   "id": "08fed2f9",
   "metadata": {
    "scrolled": true
   },
   "outputs": [],
   "source": [
    "f_train=open(\"train_dataset.pickle\",\"rb\")\n",
    "train_data=pickle.load(f_train)\n",
    "# np.random.shuffle(train_data)\n",
    "f_test=open(\"test_dataset.pickle\",\"rb\")\n",
    "test_data=pickle.load(f_test)"
   ]
  },
  {
   "cell_type": "code",
   "execution_count": 3,
   "id": "5a474e93",
   "metadata": {},
   "outputs": [],
   "source": [
    "train_x=train_data[:,0]\n",
    "train_y= train_data[:,1]\n",
    "test_x=test_data[:,0]\n",
    "test_y= test_data[:,1]"
   ]
  },
  {
   "cell_type": "code",
   "execution_count": 4,
   "id": "42bfcd77",
   "metadata": {},
   "outputs": [],
   "source": [
    "train_sets_x=np.split(train_x,20)\n",
    "train_sets_y=np.split(train_y,20)"
   ]
  },
  {
   "cell_type": "code",
   "execution_count": 5,
   "id": "d61f367c",
   "metadata": {},
   "outputs": [],
   "source": [
    "bias=[]\n",
    "bias2=[]\n",
    "mse=[]\n",
    "irr=[]\n",
    "variance=[]\n",
    "for i in range(1,16):\n",
    "    predict=[]\n",
    "    poly=PolynomialFeatures(degree=i)\n",
    "    for j in range(20):\n",
    "        train_ready_data=poly.fit_transform(train_sets_x[j].reshape(-1,1))\n",
    "        model =LinearRegression().fit(train_ready_data,train_sets_y[j].reshape(-1,1))\n",
    "        \n",
    "        test_ready_data=poly.fit_transform(test_x.reshape(-1,1))\n",
    "        predict.append(model.predict(test_ready_data))\n",
    "    bias_set=[]\n",
    "    bias_set2=[]\n",
    "    errors=[]\n",
    "    \n",
    "    var_array=np.var(predict,axis=0)\n",
    "    variance.append(np.mean(var_array))\n",
    "    \n",
    "    for j in range(200):\n",
    "        mean=0\n",
    "        error=0\n",
    "        for k in range(20):\n",
    "            mean+=predict[k][j]\n",
    "            error+=(predict[k][j]-test_y[j])**2\n",
    "        mean=mean/20\n",
    "        error=error/20\n",
    "        bias_val=abs(mean-test_y[j])\n",
    "        bias_set.append(bias_val)\n",
    "        bias_set2.append(bias_val*bias_val) \n",
    "        errors.append(error)\n",
    "    mse.append(np.mean(errors))\n",
    "    bias.append(np.mean(bias_set))\n",
    "    bias2.append(np.mean(bias_set2))\n",
    "    irr.append(np.mean(errors)-np.mean(var_array)-np.mean(bias_set2))"
   ]
  },
  {
   "cell_type": "code",
   "execution_count": 6,
   "id": "7df8513a",
   "metadata": {
    "scrolled": true
   },
   "outputs": [
    {
     "name": "stdout",
     "output_type": "stream",
     "text": [
      "+----------+-----------+------------+-------------+------------+---------------------+\n",
      "|   DEGREE |      BIAS |     BIAS^2 |    VARIANCE |        MSE |   IRREDUCIBLE ERROR |\n",
      "|----------+-----------+------------+-------------+------------+---------------------|\n",
      "|        1 | 0.269398  | 0.114392   | 0.00868095  | 0.123073   |        -1.38778e-17 |\n",
      "|        2 | 0.0862565 | 0.0121412  | 0.00122436  | 0.0133656  |         1.73472e-18 |\n",
      "|        3 | 0.0332718 | 0.00470811 | 0.000337339 | 0.00504545 |         1.04083e-17 |\n",
      "|        4 | 0.0242826 | 0.0042391  | 0.000366999 | 0.0046061  |         2.60209e-18 |\n",
      "|        5 | 0.0238793 | 0.00419759 | 0.000461938 | 0.00465952 |        -8.67362e-19 |\n",
      "|        6 | 0.0239554 | 0.00419841 | 0.00058152  | 0.00477993 |        -2.60209e-18 |\n",
      "|        7 | 0.02483   | 0.00418638 | 0.000916796 | 0.00510317 |         3.46945e-18 |\n",
      "|        8 | 0.0248874 | 0.00426172 | 0.00176092  | 0.00602264 |         8.67362e-19 |\n",
      "|        9 | 0.0304184 | 0.00485845 | 0.00827683  | 0.0131353  |         1.73472e-18 |\n",
      "|       10 | 0.0286639 | 0.00441441 | 0.00650085  | 0.0109153  |        -5.20417e-18 |\n",
      "|       11 | 0.0365903 | 0.00639682 | 0.0326928   | 0.0390896  |        -2.34188e-17 |\n",
      "|       12 | 0.0709172 | 0.0569339  | 0.884494    | 0.941428   |         4.16334e-17 |\n",
      "|       13 | 0.0422491 | 0.00757067 | 0.054317    | 0.0618876  |         2.60209e-18 |\n",
      "|       14 | 0.156428  | 0.445784   | 8.04335     | 8.48913    |         2.77556e-15 |\n",
      "|       15 | 0.0891287 | 0.0799882  | 2.66953     | 2.74952    |        -6.52256e-16 |\n",
      "+----------+-----------+------------+-------------+------------+---------------------+\n"
     ]
    }
   ],
   "source": [
    "table = {\n",
    "        'DEGREE' : range(1,16),\n",
    "        'BIAS': bias,\n",
    "        'BIAS^2' : bias2,\n",
    "        'VARIANCE': variance,\n",
    "        'MSE' : mse,\n",
    "        'IRREDUCIBLE ERROR': irr,\n",
    "     }\n",
    "print(tabulate(table,headers='keys',tablefmt='psql'))"
   ]
  },
  {
   "cell_type": "code",
   "execution_count": 7,
   "id": "36ba0a90",
   "metadata": {},
   "outputs": [
    {
     "data": {
      "image/png": "[encoded data removed]",
      "text/plain": [
       "<Figure size 640x480 with 1 Axes>"
      ]
     },
     "metadata": {},
     "output_type": "display_data"
    }
   ],
   "source": [
    "xaxis = range(1, 11)\n",
    "field1 = bias2[0:10]\n",
    "field2 = variance[0:10]\n",
    "field3 = mse[0:10]\n",
    "\n",
    "plt.plot(xaxis, field1)\n",
    "plt.plot(xaxis, field2)\n",
    "plt.plot(xaxis, field3)\n",
    "plt.legend(['BIAS^2','VARIANCE','MSE'])\n",
    "\n",
    "plt.show()"
   ]
  }
 ],
 "metadata": {
  "kernelspec": {
   "display_name": "Python 3 (ipykernel)",
   "language": "python",
   "name": "python3"
  },
  "language_info": {
   "codemirror_mode": {
    "name": "ipython",
    "version": 3
   },
   "file_extension": ".py",
   "mimetype": "text/x-python",
   "name": "python",
   "nbconvert_exporter": "python",
   "pygments_lexer": "ipython3",
   "version": "3.8.10"
  }
 },
 "nbformat": 4,
 "nbformat_minor": 5
}
